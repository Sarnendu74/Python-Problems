{
 "cells": [
  {
   "cell_type": "markdown",
   "id": "30d065d9-b79a-464b-9260-147120242ad6",
   "metadata": {},
   "source": [
    "# Ignite Friends"
   ]
  },
  {
   "cell_type": "code",
   "execution_count": 17,
   "id": "33eed762-3865-4b29-a724-47da91905b49",
   "metadata": {},
   "outputs": [
    {
     "name": "stdin",
     "output_type": "stream",
     "text": [
      "Enter your number1:  21\n",
      "Enter your number2:  87\n"
     ]
    },
    {
     "name": "stdout",
     "output_type": "stream",
     "text": [
      "Ignite Friends\n"
     ]
    }
   ],
   "source": [
    "num1 = int(input('Enter your number1: '))\n",
    "num2 = int(input('Enter your number2: '))\n",
    "\n",
    "# num1 = 15\n",
    "# num2 = 93\n",
    "\n",
    "def isIgn(num1,num2):\n",
    "   prod = str(num1*num2)\n",
    "   prod2 = list(prod)\n",
    "   prod2.sort()\n",
    "   if(num1 != 0 and num2 != 0):\n",
    "       for item in range(len(prod2)):\n",
    "         if(prod[item] not in prod):\n",
    "             return False\n",
    "             break\n",
    "       else:\n",
    "           return True\n",
    "\n",
    "if(isIgn(num1,num2)):\n",
    "    print('Ignite Friends')\n",
    "else:\n",
    "    print('Not Ignite Friends')\n",
    "    "
   ]
  },
  {
   "cell_type": "code",
   "execution_count": null,
   "id": "8cb98f76-8da0-4201-93f8-3e7c649d2aef",
   "metadata": {},
   "outputs": [],
   "source": []
  }
 ],
 "metadata": {
  "kernelspec": {
   "display_name": "Python 3 (ipykernel)",
   "language": "python",
   "name": "python3"
  },
  "language_info": {
   "codemirror_mode": {
    "name": "ipython",
    "version": 3
   },
   "file_extension": ".py",
   "mimetype": "text/x-python",
   "name": "python",
   "nbconvert_exporter": "python",
   "pygments_lexer": "ipython3",
   "version": "3.12.4"
  }
 },
 "nbformat": 4,
 "nbformat_minor": 5
}
