{
 "cells": [
  {
   "cell_type": "markdown",
   "id": "cde7e095-ff76-4bb3-98bf-4630ee25d31d",
   "metadata": {},
   "source": [
    "# Pattern"
   ]
  },
  {
   "cell_type": "code",
   "execution_count": 73,
   "id": "e46dbc89-624f-46af-aa13-19725a6ef7b2",
   "metadata": {},
   "outputs": [
    {
     "name": "stdout",
     "output_type": "stream",
     "text": [
      "123456787654321\n",
      "1234567 7654321\n",
      "123456   654321\n",
      "12345     54321\n",
      "1234       4321\n",
      "123         321\n",
      "12           21\n",
      "1             1\n"
     ]
    }
   ],
   "source": [
    "n = 8\n",
    "l = n\n",
    "for i in range(1,n+1):\n",
    "    # print(i,end=\" \")\n",
    "    for j in range(1,n+1):\n",
    "        if(j<=l):\n",
    "            print(j,end=\"\")\n",
    "        else:\n",
    "            print(end=\" \")\n",
    "    for k in range((n)-1,0,-1):\n",
    "        if(k<=l):\n",
    "            print(k,end=\"\")\n",
    "        else:\n",
    "            print(end=\" \")\n",
    "    l -= 1\n",
    "    print()"
   ]
  },
  {
   "cell_type": "code",
   "execution_count": null,
   "id": "818be795-cadd-4193-890a-5a116fc99e6c",
   "metadata": {},
   "outputs": [],
   "source": []
  }
 ],
 "metadata": {
  "kernelspec": {
   "display_name": "Python 3 (ipykernel)",
   "language": "python",
   "name": "python3"
  },
  "language_info": {
   "codemirror_mode": {
    "name": "ipython",
    "version": 3
   },
   "file_extension": ".py",
   "mimetype": "text/x-python",
   "name": "python",
   "nbconvert_exporter": "python",
   "pygments_lexer": "ipython3",
   "version": "3.12.4"
  }
 },
 "nbformat": 4,
 "nbformat_minor": 5
}
