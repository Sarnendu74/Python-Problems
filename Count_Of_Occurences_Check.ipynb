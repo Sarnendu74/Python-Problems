{
 "cells": [
  {
   "cell_type": "markdown",
   "id": "16c2f4e5-7d16-481f-ba59-79439a892df6",
   "metadata": {},
   "source": [
    "# I Worrrkkk"
   ]
  },
  {
   "cell_type": "code",
   "execution_count": 13,
   "id": "cd377869-a555-4cfb-b0ef-ebe80cde00d9",
   "metadata": {},
   "outputs": [
    {
     "name": "stdout",
     "output_type": "stream",
     "text": [
      "28\n",
      "I Wo3r3k I5g3n3i4te\n"
     ]
    }
   ],
   "source": [
    "st = \"I Worrrkkk Igggggnnniiitttte\"\n",
    "st2=\"\"\n",
    "print(len(st))\n",
    "count = 1\n",
    "for item in range(len(st)):\n",
    "    if(item<len(st)-1 and st[item]==st[item+1]):\n",
    "        count+=1\n",
    "    else:\n",
    "        if(count>1):\n",
    "            st2+=str(count)\n",
    "        st2+=st[item]\n",
    "        count = 1\n",
    "print(st2)        "
   ]
  },
  {
   "cell_type": "code",
   "execution_count": null,
   "id": "38c8ade3-8038-4054-adfa-e5a4500c80d2",
   "metadata": {},
   "outputs": [],
   "source": []
  }
 ],
 "metadata": {
  "kernelspec": {
   "display_name": "Python 3 (ipykernel)",
   "language": "python",
   "name": "python3"
  },
  "language_info": {
   "codemirror_mode": {
    "name": "ipython",
    "version": 3
   },
   "file_extension": ".py",
   "mimetype": "text/x-python",
   "name": "python",
   "nbconvert_exporter": "python",
   "pygments_lexer": "ipython3",
   "version": "3.12.4"
  }
 },
 "nbformat": 4,
 "nbformat_minor": 5
}
