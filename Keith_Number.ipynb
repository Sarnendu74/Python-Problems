{
 "cells": [
  {
   "cell_type": "markdown",
   "id": "8ef0a4bf-e6b8-40c1-a20a-85eecf397b4a",
   "metadata": {},
   "source": [
    "# Keith Number"
   ]
  },
  {
   "cell_type": "code",
   "execution_count": 3,
   "id": "ce2f7b9d-8859-4e7e-9c04-1e03b939be14",
   "metadata": {},
   "outputs": [
    {
     "name": "stdin",
     "output_type": "stream",
     "text": [
      "Enter your number:  10\n"
     ]
    },
    {
     "name": "stdout",
     "output_type": "stream",
     "text": [
      "10 It is not a Keith Number.\n"
     ]
    }
   ],
   "source": [
    "num = int(input(\"Enter your number: \"))\n",
    "def is_Keith(n):\n",
    "     temp = n\n",
    "     l=[int(d) for d in str(n)]\n",
    "     while True:\n",
    "         next_term = sum(l)\n",
    "         if (temp==next_term):\n",
    "             return f\"{temp} It is a Keith Number.\"\n",
    "             break\n",
    "         if(temp<next_term):\n",
    "             return f\"{temp} It is not a Keith Number.\"\n",
    "             break\n",
    "         # Swapping\n",
    "         for i in range(len(l)-1):\n",
    "             l[i] = l[i+1]\n",
    "         l[-1]=next_term\n",
    "\n",
    "print(is_Keith(num))         \n",
    "         "
   ]
  },
  {
   "cell_type": "code",
   "execution_count": null,
   "id": "f7a5209f-bed1-432c-a77a-4c70d63e280d",
   "metadata": {},
   "outputs": [],
   "source": []
  }
 ],
 "metadata": {
  "kernelspec": {
   "display_name": "Python 3 (ipykernel)",
   "language": "python",
   "name": "python3"
  },
  "language_info": {
   "codemirror_mode": {
    "name": "ipython",
    "version": 3
   },
   "file_extension": ".py",
   "mimetype": "text/x-python",
   "name": "python",
   "nbconvert_exporter": "python",
   "pygments_lexer": "ipython3",
   "version": "3.12.4"
  }
 },
 "nbformat": 4,
 "nbformat_minor": 5
}
